{
 "cells": [
  {
   "cell_type": "markdown",
   "metadata": {},
   "source": [
    "# Import Library"
   ]
  },
  {
   "cell_type": "code",
   "execution_count": 1,
   "metadata": {},
   "outputs": [],
   "source": [
    "import numpy as np\n",
    "import os\n",
    "import networkx as nx\n",
    "from tensorflow.keras.utils import to_categorical\n",
    "from sklearn.preprocessing import LabelEncoder\n",
    "from sklearn.utils import shuffle\n",
    "from sklearn.metrics import classification_report\n",
    "from scipy.linalg import fractional_matrix_power\n",
    "\n",
    "from tensorflow.keras.models import Model\n",
    "from tensorflow.keras.layers import Dropout, Dense\n",
    "from tensorflow.keras import Sequential, Input\n",
    "from tensorflow.keras.optimizers import Adam\n",
    "from tensorflow.keras.callbacks import TensorBoard, EarlyStopping\n",
    "import tensorflow as tf\n",
    "from tensorflow.keras.regularizers import l2\n",
    "\n",
    "from collections import Counter\n",
    "from sklearn.manifold import TSNE\n",
    "import matplotlib.pyplot as plt\n",
    "\n",
    "from layers import GraphConv"
   ]
  },
  {
   "cell_type": "markdown",
   "metadata": {},
   "source": [
    "#### Configs"
   ]
  },
  {
   "cell_type": "code",
   "execution_count": 2,
   "metadata": {},
   "outputs": [],
   "source": [
    "DATA_PATH = '../Datasets/cora/'\n",
    "LOG_PATH = './logs/'\n",
    "SEED = 42\n",
    "\n",
    "channels = 16\n",
    "dropout = 0.5\n",
    "l2_reg = 5e-4\n",
    "learning_rate = 1e-2\n",
    "epochs = 200\n",
    "es_patience = 10"
   ]
  },
  {
   "cell_type": "markdown",
   "metadata": {},
   "source": [
    "# Cora Dataset "
   ]
  },
  {
   "cell_type": "code",
   "execution_count": 3,
   "metadata": {},
   "outputs": [],
   "source": [
    "all_data = []\n",
    "all_edges = []\n",
    "\n",
    "for root, dirs, files in os.walk(DATA_PATH):\n",
    "    for file in files:\n",
    "        if '.content' in file:\n",
    "            with open(os.path.join(root, file), 'r') as f:\n",
    "                all_data.extend(f.read().splitlines())\n",
    "        elif '.cites' in file:\n",
    "            with open(os.path.join(root, file), 'r') as f:\n",
    "                all_edges.extend(f.read().splitlines())\n",
    "\n",
    "all_data = shuffle(all_data, random_state=SEED)"
   ]
  },
  {
   "cell_type": "markdown",
   "metadata": {},
   "source": [
    "cora.content\n",
    "1. Node ID\n",
    "2. Node Feature\n",
    "3. Node Label\n",
    "\n",
    "cora.cites\n",
    "\n",
    "(a, b)\n",
    "\n",
    "a : ID of the paper being cited\n",
    "\n",
    "b : the paper containing the citation"
   ]
  },
  {
   "cell_type": "code",
   "execution_count": 4,
   "metadata": {},
   "outputs": [
    {
     "name": "stdout",
     "output_type": "stream",
     "text": [
      "LOG >>> X shape: (2708, 1433)\n"
     ]
    }
   ],
   "source": [
    "labels = []\n",
    "nodes = []\n",
    "X = []\n",
    "\n",
    "for i, data in enumerate(all_data):\n",
    "    elements = data.split('\\t')\n",
    "    labels.append(elements[-1])\n",
    "    X.append(elements[1:-1])\n",
    "    nodes.append(elements[0])\n",
    "    \n",
    "X = np.array(X, dtype=int)\n",
    "N = X.shape[0]\n",
    "F = X.shape[1]\n",
    "print(f'LOG >>> X shape: {X.shape}')"
   ]
  },
  {
   "cell_type": "code",
   "execution_count": 5,
   "metadata": {},
   "outputs": [
    {
     "name": "stdout",
     "output_type": "stream",
     "text": [
      "LOG >>> Number of Nodes N : 2708\n",
      "LOG >>> Number of Features F of each node : 1433\n",
      "LOG >>> Categories :\n",
      "{'Reinforcement_Learning', 'Theory', 'Rule_Learning', 'Neural_Networks', 'Genetic_Algorithms', 'Probabilistic_Methods', 'Case_Based'}\n",
      "LOG >>> Number of classes : 7\n"
     ]
    }
   ],
   "source": [
    "edge_list = []\n",
    "\n",
    "for edge in all_edges:\n",
    "    e = edge.split('\\t')\n",
    "    edge_list.append((e[0], e[1]))\n",
    "    \n",
    "print(f'LOG >>> Number of Nodes N : {N}')\n",
    "print(f'LOG >>> Number of Features F of each node : {F}')\n",
    "print(f'LOG >>> Categories :\\n{set(labels)}')\n",
    "num_classes = len(set(labels))\n",
    "print(f'LOG >>> Number of classes : {num_classes}')"
   ]
  },
  {
   "cell_type": "markdown",
   "metadata": {},
   "source": [
    "# Set Train, val and test mask "
   ]
  },
  {
   "cell_type": "code",
   "execution_count": 6,
   "metadata": {},
   "outputs": [],
   "source": [
    "def limit_data(labels, limit=20, val_num=500, test_num=1000):\n",
    "    label_counter = dict((l, 0) for l in labels)\n",
    "    train_idx = []\n",
    "    \n",
    "    for i in range(len(labels)):\n",
    "        label = labels[i]\n",
    "        if label_counter[label] < limit:\n",
    "            train_idx.append(i)\n",
    "            label_counter[label] += 1\n",
    "        \n",
    "        if all(count == limit for count in label_counter.values()):\n",
    "            break\n",
    "            \n",
    "    rest_idx = [x for x in range(len(labels)) if x not in train_idx]\n",
    "    val_idx = rest_idx[:val_num]\n",
    "    test_idx = rest_idx[val_num:(val_num + test_num)]\n",
    "    return train_idx, val_idx, test_idx\n",
    "\n",
    "train_idx, val_idx, test_idx = limit_data(labels)"
   ]
  },
  {
   "cell_type": "code",
   "execution_count": 7,
   "metadata": {},
   "outputs": [
    {
     "name": "stdout",
     "output_type": "stream",
     "text": [
      "LOG >>> Number of Train set : 140\n",
      "LOG >>> Number of Valid set : 500\n",
      "LOG >>> Number of Test set : 1000\n"
     ]
    }
   ],
   "source": [
    "print(f'LOG >>> Number of Train set : {len(train_idx)}')\n",
    "print(f'LOG >>> Number of Valid set : {len(val_idx)}')\n",
    "print(f'LOG >>> Number of Test set : {len(test_idx)}')"
   ]
  },
  {
   "cell_type": "code",
   "execution_count": 8,
   "metadata": {},
   "outputs": [],
   "source": [
    "train_mask = np.zeros((N,), dtype=bool)\n",
    "train_mask[train_idx] = True\n",
    "\n",
    "val_mask = np.zeros((N,), dtype=bool)\n",
    "val_mask[val_idx] = True\n",
    "\n",
    "test_mask = np.zeros((N,), dtype=bool)\n",
    "test_mask[test_idx] = True"
   ]
  },
  {
   "cell_type": "markdown",
   "metadata": {},
   "source": [
    "### Get Adjacency Matrix, A "
   ]
  },
  {
   "cell_type": "code",
   "execution_count": 9,
   "metadata": {},
   "outputs": [
    {
     "name": "stdout",
     "output_type": "stream",
     "text": [
      "LOG >>> Graph info:\n",
      "Name: \n",
      "Type: Graph\n",
      "Number of nodes: 2708\n",
      "Number of edges: 5278\n",
      "Average degree:   3.8981\n"
     ]
    }
   ],
   "source": [
    "G = nx.Graph()\n",
    "G.add_nodes_from(nodes)\n",
    "G.add_edges_from(edge_list)\n",
    "\n",
    "A = nx.adjacency_matrix(G)\n",
    "print(f'LOG >>> Graph info:\\n{nx.info(G)}')"
   ]
  },
  {
   "cell_type": "code",
   "execution_count": 10,
   "metadata": {},
   "outputs": [],
   "source": [
    "# plt.figure(figsize=(30, 30))\n",
    "# nx.draw(G, with_labels=True)\n",
    "# plt.show()"
   ]
  },
  {
   "cell_type": "markdown",
   "metadata": {},
   "source": [
    "### Encode label with One-Hot"
   ]
  },
  {
   "cell_type": "code",
   "execution_count": 11,
   "metadata": {},
   "outputs": [],
   "source": [
    "def encode_label(labels):\n",
    "    label_encoder = LabelEncoder()\n",
    "    labels = label_encoder.fit_transform(labels)\n",
    "    labels = to_categorical(labels)\n",
    "    return labels, label_encoder.classes_\n",
    "\n",
    "labels_encoded, classes = encode_label(labels)"
   ]
  },
  {
   "cell_type": "markdown",
   "metadata": {},
   "source": [
    "### Build Graph and get A "
   ]
  },
  {
   "cell_type": "code",
   "execution_count": 12,
   "metadata": {},
   "outputs": [
    {
     "name": "stdout",
     "output_type": "stream",
     "text": [
      "LOG >>> Graph info:\n",
      "Name: \n",
      "Type: Graph\n",
      "Number of nodes: 2708\n",
      "Number of edges: 5278\n",
      "Average degree:   3.8981\n"
     ]
    }
   ],
   "source": [
    "G = nx.Graph()\n",
    "G.add_nodes_from(nodes)\n",
    "G.add_edges_from(edge_list)\n",
    "\n",
    "# A = nx.adjacency_matrix(G).todense()\n",
    "A = nx.adjacency_matrix(G)\n",
    "print(f'LOG >>> Graph info:\\n{nx.info(G)}')"
   ]
  },
  {
   "cell_type": "code",
   "execution_count": 13,
   "metadata": {},
   "outputs": [],
   "source": [
    "def normalize_Adj(A):\n",
    "    I = np.identity(A.shape[0])\n",
    "    A_hat = A + I\n",
    "    D = np.diag(np.squeeze(np.array(np.sum(A_hat, axis=0))))\n",
    "    D_half_norm = fractional_matrix_power(D, -0.5)\n",
    "    DAD = D_half_norm.dot(A_hat).dot(D_half_norm)\n",
    "    return DAD\n",
    "\n",
    "A = normalize_Adj(A)\n",
    "X = X.astype(np.float64)"
   ]
  },
  {
   "cell_type": "markdown",
   "metadata": {},
   "source": [
    "### Define Model "
   ]
  },
  {
   "cell_type": "code",
   "execution_count": 14,
   "metadata": {},
   "outputs": [],
   "source": [
    "class GCN(tf.keras.Model):\n",
    "    def __init__(self, filters, dropout):\n",
    "        super(GCN, self).__init__(name='GCN')\n",
    "        self.dropout_1 = Dropout(dropout)\n",
    "        self.graphConv_1 = GraphConv(filters,\n",
    "                                    activation=tf.nn.relu,\n",
    "                                    use_bias=False)\n",
    "        self.dropout_2 = Dropout(dropout)\n",
    "        self.graphConv_2 = GraphConv(num_classes,\n",
    "                                    activation=tf.nn.softmax,\n",
    "                                    use_bias=False)\n",
    "        \n",
    "    def call(self, input_tensor, training=False):\n",
    "        A, x = input_tensor\n",
    "        x = self.dropout_1(x)\n",
    "        A, x = self.graphConv_1([A, x])\n",
    "        x = self.dropout_2(x)\n",
    "        A, x = self.graphConv_2([A, x])\n",
    "        return x"
   ]
  },
  {
   "cell_type": "code",
   "execution_count": 15,
   "metadata": {},
   "outputs": [],
   "source": [
    "model = GCN(channels, dropout)"
   ]
  },
  {
   "cell_type": "code",
   "execution_count": 16,
   "metadata": {
    "scrolled": true
   },
   "outputs": [],
   "source": [
    "optimizer = Adam(lr=learning_rate)\n",
    "model.compile(optimizer=optimizer,\n",
    "             loss='categorical_crossentropy',\n",
    "             weighted_metrics=['acc'])"
   ]
  },
  {
   "cell_type": "markdown",
   "metadata": {},
   "source": [
    "### Callbacks"
   ]
  },
  {
   "cell_type": "code",
   "execution_count": 17,
   "metadata": {},
   "outputs": [],
   "source": [
    "tensorboard = tf.keras.callbacks.TensorBoard(log_dir=LOG_PATH)\n",
    "early_stop = tf.keras.callbacks.EarlyStopping(patience=es_patience, restore_best_weights=True)\n",
    "\n",
    "callbacks = [tensorboard, early_stop]"
   ]
  },
  {
   "cell_type": "markdown",
   "metadata": {},
   "source": [
    "## Training "
   ]
  },
  {
   "cell_type": "code",
   "execution_count": 25,
   "metadata": {},
   "outputs": [],
   "source": [
    "validation_data = ([A, X], labels_encoded, val_mask)"
   ]
  },
  {
   "cell_type": "code",
   "execution_count": 26,
   "metadata": {},
   "outputs": [
    {
     "name": "stdout",
     "output_type": "stream",
     "text": [
      "Epoch 1/200\n",
      "1/1 [==============================] - 0s 380ms/step - loss: 0.0967 - acc: 0.3857 - val_loss: 0.3396 - val_acc: 0.4800\n",
      "Epoch 2/200\n",
      "1/1 [==============================] - 0s 389ms/step - loss: 0.0925 - acc: 0.5286 - val_loss: 0.3249 - val_acc: 0.5380\n",
      "Epoch 3/200\n",
      "1/1 [==============================] - 0s 285ms/step - loss: 0.0865 - acc: 0.5714 - val_loss: 0.3086 - val_acc: 0.5580\n",
      "Epoch 4/200\n",
      "1/1 [==============================] - 0s 280ms/step - loss: 0.0828 - acc: 0.5714 - val_loss: 0.2928 - val_acc: 0.5700\n",
      "Epoch 5/200\n",
      "1/1 [==============================] - 0s 274ms/step - loss: 0.0742 - acc: 0.6357 - val_loss: 0.2776 - val_acc: 0.5880\n",
      "Epoch 6/200\n",
      "1/1 [==============================] - 0s 283ms/step - loss: 0.0719 - acc: 0.6143 - val_loss: 0.2636 - val_acc: 0.6020\n",
      "Epoch 7/200\n",
      "1/1 [==============================] - 0s 284ms/step - loss: 0.0648 - acc: 0.6714 - val_loss: 0.2507 - val_acc: 0.6360\n",
      "Epoch 8/200\n",
      "1/1 [==============================] - 0s 279ms/step - loss: 0.0607 - acc: 0.7429 - val_loss: 0.2386 - val_acc: 0.6860\n",
      "Epoch 9/200\n",
      "1/1 [==============================] - 0s 281ms/step - loss: 0.0561 - acc: 0.8071 - val_loss: 0.2271 - val_acc: 0.7220\n",
      "Epoch 10/200\n",
      "1/1 [==============================] - 0s 286ms/step - loss: 0.0513 - acc: 0.8071 - val_loss: 0.2164 - val_acc: 0.7440\n",
      "Epoch 11/200\n",
      "1/1 [==============================] - 0s 286ms/step - loss: 0.0463 - acc: 0.8500 - val_loss: 0.2060 - val_acc: 0.7760\n",
      "Epoch 12/200\n",
      "1/1 [==============================] - 0s 277ms/step - loss: 0.0417 - acc: 0.9214 - val_loss: 0.1959 - val_acc: 0.7900\n",
      "Epoch 13/200\n",
      "1/1 [==============================] - 0s 278ms/step - loss: 0.0399 - acc: 0.8857 - val_loss: 0.1864 - val_acc: 0.8020\n",
      "Epoch 14/200\n",
      "1/1 [==============================] - 0s 285ms/step - loss: 0.0345 - acc: 0.9214 - val_loss: 0.1774 - val_acc: 0.8120\n",
      "Epoch 15/200\n",
      "1/1 [==============================] - 0s 287ms/step - loss: 0.0306 - acc: 0.9357 - val_loss: 0.1692 - val_acc: 0.8120\n",
      "Epoch 16/200\n",
      "1/1 [==============================] - 0s 278ms/step - loss: 0.0309 - acc: 0.9286 - val_loss: 0.1615 - val_acc: 0.8160\n",
      "Epoch 17/200\n",
      "1/1 [==============================] - 0s 277ms/step - loss: 0.0281 - acc: 0.9500 - val_loss: 0.1546 - val_acc: 0.8160\n",
      "Epoch 18/200\n",
      "1/1 [==============================] - 0s 289ms/step - loss: 0.0246 - acc: 0.9286 - val_loss: 0.1485 - val_acc: 0.8220\n",
      "Epoch 19/200\n",
      "1/1 [==============================] - 0s 277ms/step - loss: 0.0202 - acc: 0.9500 - val_loss: 0.1430 - val_acc: 0.8180\n",
      "Epoch 20/200\n",
      "1/1 [==============================] - 0s 278ms/step - loss: 0.0191 - acc: 0.9429 - val_loss: 0.1380 - val_acc: 0.8200\n",
      "Epoch 21/200\n",
      "1/1 [==============================] - 0s 276ms/step - loss: 0.0206 - acc: 0.9714 - val_loss: 0.1338 - val_acc: 0.8200\n",
      "Epoch 22/200\n",
      "1/1 [==============================] - 0s 281ms/step - loss: 0.0167 - acc: 0.9357 - val_loss: 0.1298 - val_acc: 0.8220\n",
      "Epoch 23/200\n",
      "1/1 [==============================] - 0s 282ms/step - loss: 0.0166 - acc: 0.9357 - val_loss: 0.1263 - val_acc: 0.8180\n",
      "Epoch 24/200\n",
      "1/1 [==============================] - 0s 275ms/step - loss: 0.0142 - acc: 0.9643 - val_loss: 0.1231 - val_acc: 0.8180\n",
      "Epoch 25/200\n",
      "1/1 [==============================] - 0s 284ms/step - loss: 0.0131 - acc: 0.9571 - val_loss: 0.1202 - val_acc: 0.8160\n",
      "Epoch 26/200\n",
      "1/1 [==============================] - 0s 289ms/step - loss: 0.0128 - acc: 0.9571 - val_loss: 0.1178 - val_acc: 0.8180\n",
      "Epoch 27/200\n",
      "1/1 [==============================] - 0s 279ms/step - loss: 0.0131 - acc: 0.9571 - val_loss: 0.1157 - val_acc: 0.8180\n",
      "Epoch 28/200\n",
      "1/1 [==============================] - 0s 276ms/step - loss: 0.0107 - acc: 0.9571 - val_loss: 0.1139 - val_acc: 0.8180\n",
      "Epoch 29/200\n",
      "1/1 [==============================] - 0s 290ms/step - loss: 0.0101 - acc: 0.9786 - val_loss: 0.1122 - val_acc: 0.8180\n",
      "Epoch 30/200\n",
      "1/1 [==============================] - 0s 286ms/step - loss: 0.0123 - acc: 0.9643 - val_loss: 0.1111 - val_acc: 0.8180\n",
      "Epoch 31/200\n",
      "1/1 [==============================] - 0s 289ms/step - loss: 0.0076 - acc: 0.9643 - val_loss: 0.1103 - val_acc: 0.8120\n",
      "Epoch 32/200\n",
      "1/1 [==============================] - 0s 278ms/step - loss: 0.0087 - acc: 0.9786 - val_loss: 0.1098 - val_acc: 0.8100\n",
      "Epoch 33/200\n",
      "1/1 [==============================] - 0s 277ms/step - loss: 0.0075 - acc: 0.9786 - val_loss: 0.1095 - val_acc: 0.8140\n",
      "Epoch 34/200\n",
      "1/1 [==============================] - 0s 282ms/step - loss: 0.0065 - acc: 0.9857 - val_loss: 0.1095 - val_acc: 0.8120\n",
      "Epoch 35/200\n",
      "1/1 [==============================] - 0s 288ms/step - loss: 0.0059 - acc: 0.9857 - val_loss: 0.1099 - val_acc: 0.8100\n",
      "Epoch 36/200\n",
      "1/1 [==============================] - 0s 284ms/step - loss: 0.0055 - acc: 0.9786 - val_loss: 0.1106 - val_acc: 0.8080\n",
      "Epoch 37/200\n",
      "1/1 [==============================] - 0s 278ms/step - loss: 0.0066 - acc: 0.9786 - val_loss: 0.1111 - val_acc: 0.8040\n",
      "Epoch 38/200\n",
      "1/1 [==============================] - 0s 283ms/step - loss: 0.0088 - acc: 0.9429 - val_loss: 0.1115 - val_acc: 0.8020\n",
      "Epoch 39/200\n",
      "1/1 [==============================] - 0s 279ms/step - loss: 0.0058 - acc: 0.9857 - val_loss: 0.1116 - val_acc: 0.8000\n",
      "Epoch 40/200\n",
      "1/1 [==============================] - 0s 277ms/step - loss: 0.0063 - acc: 0.9571 - val_loss: 0.1119 - val_acc: 0.8040\n",
      "Epoch 41/200\n",
      "1/1 [==============================] - 0s 277ms/step - loss: 0.0047 - acc: 0.9929 - val_loss: 0.1122 - val_acc: 0.8060\n",
      "Epoch 42/200\n",
      "1/1 [==============================] - 0s 291ms/step - loss: 0.0060 - acc: 0.9714 - val_loss: 0.1122 - val_acc: 0.8060\n",
      "Epoch 43/200\n",
      "1/1 [==============================] - 0s 281ms/step - loss: 0.0057 - acc: 0.9929 - val_loss: 0.1123 - val_acc: 0.8060\n",
      "Epoch 44/200\n",
      "1/1 [==============================] - 0s 283ms/step - loss: 0.0044 - acc: 0.9857 - val_loss: 0.1123 - val_acc: 0.8060\n"
     ]
    },
    {
     "data": {
      "text/plain": [
       "<tensorflow.python.keras.callbacks.History at 0x7fe2fc667d90>"
      ]
     },
     "execution_count": 26,
     "metadata": {},
     "output_type": "execute_result"
    }
   ],
   "source": [
    "model.fit([A, X],\n",
    "         labels_encoded,\n",
    "         sample_weight=train_mask,\n",
    "         epochs=epochs,\n",
    "         batch_size=N,\n",
    "         validation_data=validation_data,\n",
    "         shuffle=False,\n",
    "         callbacks=callbacks)"
   ]
  },
  {
   "cell_type": "markdown",
   "metadata": {},
   "source": [
    "### Evaluate "
   ]
  },
  {
   "cell_type": "code",
   "execution_count": 27,
   "metadata": {},
   "outputs": [
    {
     "name": "stdout",
     "output_type": "stream",
     "text": [
      "LOG >>> GCN Classification Report:\n",
      "                        precision    recall  f1-score   support\n",
      "\n",
      "            Case_Based       0.75      0.75      0.75       113\n",
      "    Genetic_Algorithms       0.89      0.83      0.86       150\n",
      "       Neural_Networks       0.85      0.76      0.80       306\n",
      " Probabilistic_Methods       0.85      0.77      0.81       167\n",
      "Reinforcement_Learning       0.73      0.84      0.78        79\n",
      "         Rule_Learning       0.54      0.79      0.64        62\n",
      "                Theory       0.55      0.63      0.58       123\n",
      "\n",
      "              accuracy                           0.76      1000\n",
      "             macro avg       0.74      0.77      0.75      1000\n",
      "          weighted avg       0.78      0.76      0.77      1000\n",
      "\n"
     ]
    }
   ],
   "source": [
    "X_te = X[test_mask]\n",
    "A_te = A[test_mask, :][:, test_mask]\n",
    "y_te = labels_encoded[test_mask]\n",
    "\n",
    "y_pred = model.predict([A_te, X_te], batch_size=N)\n",
    "report = classification_report(np.argmax(y_te, axis=1),\n",
    "                              np.argmax(y_pred, axis=1),\n",
    "                              target_names=classes)\n",
    "print(f'LOG >>> GCN Classification Report:\\n{report}')"
   ]
  },
  {
   "cell_type": "markdown",
   "metadata": {},
   "source": [
    "###  Get hidden layer representation for GCN"
   ]
  },
  {
   "cell_type": "code",
   "execution_count": 36,
   "metadata": {},
   "outputs": [],
   "source": [
    "activations = model.predict([A, X], batch_size=N)\n",
    "\n",
    "x_tsne = TSNE(n_components=2).fit_transform(activations)"
   ]
  },
  {
   "cell_type": "code",
   "execution_count": 37,
   "metadata": {},
   "outputs": [
    {
     "data": {
      "image/png": "[encoded data removed]",
      "text/plain": [
       "<Figure size 720x720 with 1 Axes>"
      ]
     },
     "metadata": {
      "needs_background": "light"
     },
     "output_type": "display_data"
    }
   ],
   "source": [
    "def plot_tSNE(labels_encoded, x_tsne):\n",
    "    color_map = np.argmax(labels_encoded, axis=1)\n",
    "    plt.figure(figsize=(10, 10))\n",
    "    for cl in range(num_classes):\n",
    "        indices = np.where(color_map==cl)\n",
    "        indices = indices[0]\n",
    "        plt.scatter(x_tsne[indices, 0], x_tsne[indices, 1], label=cl)\n",
    "    plt.legend()\n",
    "    plt.show()\n",
    "\n",
    "plot_tSNE(labels_encoded, x_tsne)"
   ]
  },
  {
   "cell_type": "code",
   "execution_count": null,
   "metadata": {},
   "outputs": [],
   "source": []
  }
 ],
 "metadata": {
  "kernelspec": {
   "display_name": "GCN",
   "language": "python",
   "name": "gcn"
  },
  "language_info": {
   "codemirror_mode": {
    "name": "ipython",
    "version": 3
   },
   "file_extension": ".py",
   "mimetype": "text/x-python",
   "name": "python",
   "nbconvert_exporter": "python",
   "pygments_lexer": "ipython3",
   "version": "3.7.9"
  }
 },
 "nbformat": 4,
 "nbformat_minor": 4
}
