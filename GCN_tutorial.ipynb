{
 "cells": [
  {
   "cell_type": "code",
   "execution_count": 3,
   "metadata": {},
   "outputs": [],
   "source": [
    "import networkx as nx\n",
    "import numpy as np\n",
    "import matplotlib.pyplot as plt\n",
    "%matplotlib inline\n",
    "\n",
    "from scipy.linalg import fractional_matrix_power\n",
    "import warnings\n",
    "warnings.filterwarnings('ignore', category=UserWarning)"
   ]
  },
  {
   "cell_type": "markdown",
   "metadata": {},
   "source": [
    "#### Self Loop가 없는 그래프 "
   ]
  },
  {
   "cell_type": "code",
   "execution_count": 6,
   "metadata": {},
   "outputs": [],
   "source": [
    "G = nx.Graph(name='G')\n",
    "\n",
    "for i in range(6):\n",
    "    G.add_node(i, name=i)\n",
    "    \n",
    "edges = [(0,1), (0,2), (1,2), (0,3), (3,4), (3,5), (4,5)]\n",
    "G.add_edges_from(edges)"
   ]
  },
  {
   "cell_type": "code",
   "execution_count": 12,
   "metadata": {},
   "outputs": [
    {
     "name": "stdout",
     "output_type": "stream",
     "text": [
      "LOG >>> Graph Info:\n",
      "Name: G\n",
      "Type: Graph\n",
      "Number of nodes: 6\n",
      "Number of edges: 7\n",
      "Average degree:   2.3333\n",
      "\n",
      "LOG >>> Graph Nodes: [(0, {'name': 0}), (1, {'name': 1}), (2, {'name': 2}), (3, {'name': 3}), (4, {'name': 4}), (5, {'name': 5})]\n",
      "\n",
      "LOG >>> Graph Edges: [(0, 1, {}), (0, 2, {}), (0, 3, {}), (1, 2, {}), (3, 4, {}), (3, 5, {}), (4, 5, {})]\n",
      "\n"
     ]
    }
   ],
   "source": [
    "print(f'LOG >>> Graph Info:\\n{nx.info(G)}\\n')\n",
    "print(f'LOG >>> Graph Nodes: {G.nodes.data()}\\n')\n",
    "print(f'LOG >>> Graph Edges: {G.edges.data()}\\n')"
   ]
  },
  {
   "cell_type": "code",
   "execution_count": 11,
   "metadata": {},
   "outputs": [
    {
     "data": {
      "image/png": "[encoded data removed]",
      "text/plain": [
       "<Figure size 432x288 with 1 Axes>"
      ]
     },
     "metadata": {},
     "output_type": "display_data"
    }
   ],
   "source": [
    "nx.draw(G, with_labels=True, font_weight='bold')\n",
    "plt.show()"
   ]
  },
  {
   "cell_type": "code",
   "execution_count": 23,
   "metadata": {},
   "outputs": [],
   "source": [
    "A = np.array(nx.attr_matrix(G, node_attr='name')[0])\n",
    "X = np.array(nx.attr_matrix(G, node_attr='name')[1])\n",
    "X = np.reshape(X, (-1, 1))"
   ]
  },
  {
   "cell_type": "code",
   "execution_count": 26,
   "metadata": {},
   "outputs": [
    {
     "name": "stdout",
     "output_type": "stream",
     "text": [
      "LOG >>> Shape of A: (6, 6)\n",
      "LOG >>> Shape of X: (6, 1)\n",
      "LOG >>> Adgacency Matrix A:\n",
      "[[0. 1. 1. 1. 0. 0.]\n",
      " [1. 0. 1. 0. 0. 0.]\n",
      " [1. 1. 0. 0. 0. 0.]\n",
      " [1. 0. 0. 0. 1. 1.]\n",
      " [0. 0. 0. 1. 0. 1.]\n",
      " [0. 0. 0. 1. 1. 0.]]\n",
      "LOG >>> Node Features Matirx X:\n",
      "[[0]\n",
      " [1]\n",
      " [2]\n",
      " [3]\n",
      " [4]\n",
      " [5]]\n"
     ]
    }
   ],
   "source": [
    "print(f'LOG >>> Shape of A: {A.shape}')\n",
    "print(f'LOG >>> Shape of X: {X.shape}')\n",
    "print(f'LOG >>> Adgacency Matrix A:\\n{A}')\n",
    "print(f'LOG >>> Node Features Matirx X:\\n{X}')"
   ]
  },
  {
   "cell_type": "code",
   "execution_count": 27,
   "metadata": {},
   "outputs": [
    {
     "name": "stdout",
     "output_type": "stream",
     "text": [
      "Dot product of A and X AX:\n",
      "[[6.]\n",
      " [2.]\n",
      " [1.]\n",
      " [9.]\n",
      " [8.]\n",
      " [7.]]\n"
     ]
    }
   ],
   "source": [
    "AX = np.matmul(A, X)\n",
    "print(f'Dot product of A and X AX:\\n{AX}')"
   ]
  },
  {
   "cell_type": "code",
   "execution_count": 29,
   "metadata": {},
   "outputs": [
    {
     "name": "stdout",
     "output_type": "stream",
     "text": [
      "Dot product of A and AX AAX:\n",
      "[[12.]\n",
      " [ 7.]\n",
      " [ 8.]\n",
      " [21.]\n",
      " [16.]\n",
      " [17.]]\n"
     ]
    }
   ],
   "source": [
    "# A를 2번 곱하면 두번 떨어진 Node들의 feature 합\n",
    "AAX = np.matmul(A, AX)\n",
    "print(f'Dot product of A and AX AAX:\\n{AAX}')"
   ]
  },
  {
   "cell_type": "markdown",
   "metadata": {},
   "source": [
    "#### Self Loop가 포함된 그래프 "
   ]
  },
  {
   "cell_type": "code",
   "execution_count": 31,
   "metadata": {},
   "outputs": [],
   "source": [
    "G_self_loops = G.copy()\n",
    "\n",
    "self_loops = []\n",
    "for i in range(G.number_of_nodes()):\n",
    "    self_loops.append((i, i))\n",
    "    \n",
    "G_self_loops.add_edges_from(self_loops)    "
   ]
  },
  {
   "cell_type": "code",
   "execution_count": 32,
   "metadata": {},
   "outputs": [
    {
     "name": "stdout",
     "output_type": "stream",
     "text": [
      "LOG >>> Edges of G with self-loops:\n",
      "[(0, 1), (0, 2), (0, 3), (0, 0), (1, 2), (1, 1), (2, 2), (3, 4), (3, 5), (3, 3), (4, 5), (4, 4), (5, 5)]\n"
     ]
    }
   ],
   "source": [
    "print(f'LOG >>> Edges of G with self-loops:\\n{G_self_loops.edges}')"
   ]
  },
  {
   "cell_type": "code",
   "execution_count": 33,
   "metadata": {},
   "outputs": [
    {
     "name": "stdout",
     "output_type": "stream",
     "text": [
      "LOG >>> Adgacency Matrix of added self-loops G A_hat:\n",
      "[[1. 1. 1. 1. 0. 0.]\n",
      " [1. 1. 1. 0. 0. 0.]\n",
      " [1. 1. 1. 0. 0. 0.]\n",
      " [1. 0. 0. 1. 1. 1.]\n",
      " [0. 0. 0. 1. 1. 1.]\n",
      " [0. 0. 0. 1. 1. 1.]]\n"
     ]
    }
   ],
   "source": [
    "A_hat = np.array(nx.attr_matrix(G_self_loops, node_attr='name')[0])\n",
    "print(f'LOG >>> Adgacency Matrix of added self-loops G A_hat:\\n{A_hat}')"
   ]
  },
  {
   "cell_type": "code",
   "execution_count": 34,
   "metadata": {},
   "outputs": [
    {
     "name": "stdout",
     "output_type": "stream",
     "text": [
      "LOG >>> AX:\n",
      "[[ 6.]\n",
      " [ 3.]\n",
      " [ 3.]\n",
      " [12.]\n",
      " [12.]\n",
      " [12.]]\n"
     ]
    }
   ],
   "source": [
    "AX = np.matmul(A_hat, X)\n",
    "print(f'LOG >>> AX:\\n{AX}')"
   ]
  },
  {
   "cell_type": "markdown",
   "metadata": {},
   "source": [
    "#### Graph의 Feature를 Normalize 해야함\n",
    "\n",
    "$normalized features = D^-1AX$\n",
    "\n",
    "Definition of Degree in Graph\n",
    "\n",
    "Degree = Max(Vertex of degree)"
   ]
  },
  {
   "cell_type": "code",
   "execution_count": 35,
   "metadata": {},
   "outputs": [
    {
     "name": "stdout",
     "output_type": "stream",
     "text": [
      "LOG >>> Degree Matrix of added self-loops G D:\n",
      "[(0, 5), (1, 4), (2, 4), (3, 5), (4, 4), (5, 4)]\n"
     ]
    }
   ],
   "source": [
    "Deg_Mat = G_self_loops.degree()\n",
    "print(f'LOG >>> Degree Matrix of added self-loops G D:\\n{Deg_Mat}')"
   ]
  },
  {
   "cell_type": "code",
   "execution_count": 37,
   "metadata": {},
   "outputs": [
    {
     "name": "stdout",
     "output_type": "stream",
     "text": [
      "LOG >>> Degree Matrix of added self-loops G as numpy array D:\n",
      "[[5 0 0 0 0 0]\n",
      " [0 4 0 0 0 0]\n",
      " [0 0 4 0 0 0]\n",
      " [0 0 0 5 0 0]\n",
      " [0 0 0 0 4 0]\n",
      " [0 0 0 0 0 4]]\n"
     ]
    }
   ],
   "source": [
    "D = np.diag([deg for (n, deg) in list(Deg_Mat)])\n",
    "print(f'LOG >>> Degree Matrix of added self-loops G as numpy array D:\\n{D}')"
   ]
  },
  {
   "cell_type": "code",
   "execution_count": 38,
   "metadata": {},
   "outputs": [
    {
     "name": "stdout",
     "output_type": "stream",
     "text": [
      "LOG >>> Inverse of D:\n",
      "[[0.2  0.   0.   0.   0.   0.  ]\n",
      " [0.   0.25 0.   0.   0.   0.  ]\n",
      " [0.   0.   0.25 0.   0.   0.  ]\n",
      " [0.   0.   0.   0.2  0.   0.  ]\n",
      " [0.   0.   0.   0.   0.25 0.  ]\n",
      " [0.   0.   0.   0.   0.   0.25]]\n"
     ]
    }
   ],
   "source": [
    "D_inv = np.linalg.inv(D)\n",
    "print(f'LOG >>> Inverse of D:\\n{D_inv}')"
   ]
  },
  {
   "cell_type": "markdown",
   "metadata": {},
   "source": [
    "$A^(1/2) = QD^(1/2)Q^T$ "
   ]
  },
  {
   "cell_type": "code",
   "execution_count": 39,
   "metadata": {},
   "outputs": [
    {
     "name": "stdout",
     "output_type": "stream",
     "text": [
      "LOG >>> DAX:\n",
      "[[1.2 ]\n",
      " [0.75]\n",
      " [0.75]\n",
      " [2.4 ]\n",
      " [3.  ]\n",
      " [3.  ]]\n"
     ]
    }
   ],
   "source": [
    "DAX = np.matmul(D_inv, AX)\n",
    "print(f'LOG >>> DAX:\\n{DAX}')"
   ]
  },
  {
   "cell_type": "markdown",
   "metadata": {},
   "source": [
    "$D(-1/2)AD(-1/2)$ "
   ]
  },
  {
   "cell_type": "code",
   "execution_count": 40,
   "metadata": {},
   "outputs": [],
   "source": [
    "D_half_norm = fractional_matrix_power(D, -0.5)"
   ]
  },
  {
   "cell_type": "code",
   "execution_count": 42,
   "metadata": {},
   "outputs": [
    {
     "name": "stdout",
     "output_type": "stream",
     "text": [
      "LOG >>> DADX:\n",
      "[[1.27082039]\n",
      " [0.75      ]\n",
      " [0.75      ]\n",
      " [2.61246118]\n",
      " [2.92082039]\n",
      " [2.92082039]]\n"
     ]
    }
   ],
   "source": [
    "DADX = D_half_norm.dot(A_hat).dot(D_half_norm).dot(X)\n",
    "print(f'LOG >>> DADX:\\n{DADX}')"
   ]
  },
  {
   "cell_type": "markdown",
   "metadata": {},
   "source": [
    "### Add Weight "
   ]
  },
  {
   "cell_type": "code",
   "execution_count": 63,
   "metadata": {},
   "outputs": [
    {
     "name": "stdout",
     "output_type": "stream",
     "text": [
      "LOG >>> W0:\n",
      "[[-0.00416758 -0.00056267 -0.02136196  0.01640271]]\n",
      "LOG >>> W1:\n",
      "[[-0.01793436 -0.00841747]\n",
      " [ 0.00502881 -0.01245288]\n",
      " [-0.01057952 -0.00909008]\n",
      " [ 0.00551454  0.02292208]]\n",
      "LOG >>> A_hat:\n",
      "[[1. 1. 1. 1. 0. 0.]\n",
      " [1. 1. 1. 0. 0. 0.]\n",
      " [1. 1. 1. 0. 0. 0.]\n",
      " [1. 0. 0. 1. 1. 1.]\n",
      " [0. 0. 0. 1. 1. 1.]\n",
      " [0. 0. 0. 1. 1. 1.]]\n",
      "LOG >>> eq:\n",
      "[[-0.00673491 -0.00090929 -0.03452147  0.02650719]\n",
      " [-0.00416758 -0.00056267 -0.02136196  0.01640271]\n",
      " [-0.00416758 -0.00056267 -0.02136196  0.01640271]\n",
      " [-0.01395337 -0.00188386 -0.07152147  0.05491752]\n",
      " [-0.01611196 -0.00217529 -0.08258588  0.06341329]\n",
      " [-0.01611196 -0.00217529 -0.08258588  0.06341329]]\n",
      "LOG >>> A_hat:\n",
      "[[1. 1. 1. 1. 0. 0.]\n",
      " [1. 1. 1. 0. 0. 0.]\n",
      " [1. 1. 1. 0. 0. 0.]\n",
      " [1. 0. 0. 1. 1. 1.]\n",
      " [0. 0. 0. 1. 1. 1.]\n",
      " [0. 0. 0. 1. 1. 1.]]\n",
      "LOG >>> eq:\n",
      "[[0.00016448 0.00068368]\n",
      " [0.0001025  0.00042606]\n",
      " [0.0001025  0.00042606]\n",
      " [0.00031415 0.00130582]\n",
      " [0.00032055 0.00133243]\n",
      " [0.00032055 0.00133243]]\n",
      "LOG >>> Features Representation from GCN output:\n",
      "[[0.00016448 0.00068368]\n",
      " [0.0001025  0.00042606]\n",
      " [0.0001025  0.00042606]\n",
      " [0.00031415 0.00130582]\n",
      " [0.00032055 0.00133243]\n",
      " [0.00032055 0.00133243]]\n"
     ]
    }
   ],
   "source": [
    "SEED = 2\n",
    "np.random.seed(SEED)\n",
    "n_h = 4\n",
    "n_y = 2\n",
    "W0 = np.random.randn(X.shape[1], n_h) * 0.01\n",
    "print(f'LOG >>> W0:\\n{W0}')\n",
    "W1 = np.random.randn(n_h, n_y) * 0.01\n",
    "print(f'LOG >>> W1:\\n{W1}')\n",
    "\n",
    "def relu(x):\n",
    "    return np.maximum(0, x)\n",
    "\n",
    "def gcn(A, H, W):\n",
    "    I = np.identity(A.shape[0])\n",
    "    A_hat = A + I\n",
    "    print(f'LOG >>> A_hat:\\n{A_hat}')\n",
    "    D = np.diag(np.sum(A_hat, axis=0))\n",
    "    D_half_norm = fractional_matrix_power(D, -0.5)\n",
    "    eq = D_half_norm.dot(A_hat).dot(D_half_norm).dot(H).dot(W)\n",
    "    print(f'LOG >>> eq:\\n{eq}')\n",
    "    return relu(eq)\n",
    "\n",
    "H1 = gcn(A, X, W0)\n",
    "H2 = gcn(A, H1, W1)\n",
    "print(f'LOG >>> Features Representation from GCN output:\\n{H2}')"
   ]
  },
  {
   "cell_type": "code",
   "execution_count": 64,
   "metadata": {},
   "outputs": [
    {
     "data": {
      "image/png": "[encoded data removed]",
      "text/plain": [
       "<Figure size 432x288 with 1 Axes>"
      ]
     },
     "metadata": {
      "needs_background": "light"
     },
     "output_type": "display_data"
    }
   ],
   "source": [
    "def plot_features(H2):\n",
    "    x = H2[:, 0]\n",
    "    y = H2[:, 1]\n",
    "    \n",
    "    size = 1000\n",
    "    \n",
    "    plt.scatter(x, y, size)\n",
    "    plt.xlim([np.min(x) * 0.9, np.max(x) * 1.1])\n",
    "    plt.ylim([-1, 1])\n",
    "    plt.xlabel('Feature Representation Dimension 0')\n",
    "    plt.ylabel('Feature Representation Dimension 1')\n",
    "    plt.title('Feature Representation')\n",
    "    \n",
    "    for i, row in enumerate(H2):\n",
    "        plt.annotate(str(i), (row[0], row[1]), fontsize=18, fontweight='bold')\n",
    "        \n",
    "    plt.show()\n",
    "    \n",
    "plot_features(H2)"
   ]
  },
  {
   "cell_type": "code",
   "execution_count": null,
   "metadata": {},
   "outputs": [],
   "source": []
  }
 ],
 "metadata": {
  "kernelspec": {
   "display_name": "GCN",
   "language": "python",
   "name": "gcn"
  },
  "language_info": {
   "codemirror_mode": {
    "name": "ipython",
    "version": 3
   },
   "file_extension": ".py",
   "mimetype": "text/x-python",
   "name": "python",
   "nbconvert_exporter": "python",
   "pygments_lexer": "ipython3",
   "version": "3.7.9"
  }
 },
 "nbformat": 4,
 "nbformat_minor": 4
}
